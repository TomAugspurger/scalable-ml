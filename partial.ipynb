{
 "cells": [
  {
   "cell_type": "markdown",
   "metadata": {},
   "source": [
    "Scikit-learn supports out-of-core learning (fitting a model on a dataset that doesn't fit in RAM), through it's `partial_fit` API. See [here](http://scikit-learn.org/stable/modules/scaling_strategies.html#scaling-with-instances-using-out-of-core-learning).\n",
    "\n",
    "The basic idea is that, *for certain estimators*, learning can be done in batches. The estimator will see a batch, and then incrementally update whatever it's learning (the coefficients, for example).\n",
    "\n",
    "Unfortunately, the `partial_fit` API doesn't play that nicely with my favorite part of scikit-learn: [pipelines](http://scikit-learn.org/stable/modules/pipeline.html#pipeline). You would essentially need every chain in the pipeline to have an out-of-core `parital_fit` version, which isn't really feasible. Setting that aside, it wouldn't be great for a user, since working with generators of datasets is awkward.\n",
    "\n",
    "Fortunately, we *have* a great data containers for larger than memory arrays and dataframes: `dask.array` and `dask.dataframe`. We can\n",
    "\n",
    "1. Use dask for pre-processing data in an out-of-core manner\n",
    "2. Use scikit-learn to fit the actual model, out-of-core, using the `partial_fit` API\n",
    "\n",
    "The final piece of the puzzle is a nice little wrapper for these scikit-learn models that can be used in pipelines. I've started this in [dask-ml](https://github.com/dask/dask-ml). I'm eager to have additional contributions."
   ]
  },
  {
   "cell_type": "code",
   "execution_count": 1,
   "metadata": {
    "collapsed": true
   },
   "outputs": [],
   "source": [
    "import dask.array as da\n",
    "import dask.dataframe as dd\n",
    "\n",
    "from daskml.datasets import make_classification\n",
    "from daskml.linear_model import BigSGDClassifier\n",
    "from daskml.preprocessing import StandardScaler\n",
    "\n",
    "from sklearn.pipeline import make_pipeline"
   ]
  },
  {
   "cell_type": "markdown",
   "metadata": {},
   "source": [
    "Let's make an `X` and `y` for classification. We'll make a bunch of arrays and store them on disk using HDF5."
   ]
  },
  {
   "cell_type": "markdown",
   "metadata": {},
   "source": [
    "## Generate data"
   ]
  },
  {
   "cell_type": "code",
   "execution_count": 2,
   "metadata": {
    "collapsed": true
   },
   "outputs": [],
   "source": [
    "import string"
   ]
  },
  {
   "cell_type": "code",
   "execution_count": 3,
   "metadata": {
    "collapsed": true
   },
   "outputs": [],
   "source": [
    "n_blocks = 100"
   ]
  },
  {
   "cell_type": "markdown",
   "metadata": {},
   "source": [
    "Let's generate a fake dataset, replicate it 100 times, and store each block in a parquet file.\n",
    "This simulates a database or central store of a large dataset."
   ]
  },
  {
   "cell_type": "code",
   "execution_count": 4,
   "metadata": {
    "collapsed": true
   },
   "outputs": [],
   "source": [
    "X, y = make_classification(n_samples=1_000_000, chunks=500_000)\n",
    "\n",
    "for i in range(n_blocks):\n",
    "    X.to_dask_dataframe(columns=list(string.ascii_letters[:20])).to_parquet(f\"X-{i}.parq\")\n",
    "    y.to_dask_dataframe(columns='y').to_parquet(f\"y-{i}.parq\")"
   ]
  },
  {
   "cell_type": "markdown",
   "metadata": {},
   "source": [
    "And a utility function to read it in."
   ]
  },
  {
   "cell_type": "code",
   "execution_count": 5,
   "metadata": {
    "collapsed": true
   },
   "outputs": [],
   "source": [
    "def read():\n",
    "    Xs = []\n",
    "    ys = []\n",
    "    for i in range(n_blocks):\n",
    "        xx = dd.read_parquet(f\"X-{i}.parq/\")\n",
    "        yy = dd.read_parquet(f\"y-{i}.parq/\")\n",
    "        shapes = [j - i for i, j in zip(xx.divisions, xx.divisions[1:])]\n",
    "        shapes[-1] += 1\n",
    "\n",
    "        x = [da.from_delayed(chunk.values, shape=(shapes[i], 20), dtype='f8')\n",
    "                             for i, chunk in enumerate(xx.to_delayed())]\n",
    "        y = [da.from_delayed(chunk.values, shape=(shapes[i], 1), dtype='f8')\n",
    "                             for i, chunk in enumerate(yy.to_delayed())]\n",
    "        Xs.append(da.concatenate(x, axis=0).rechunk((500_000, 20)))\n",
    "        ys.append(da.concatenate(y, axis=0).rechunk((500_000, 1)))\n",
    "    return da.concatenate(Xs, axis=0), da.concatenate(ys, axis=0).squeeze()\n"
   ]
  },
  {
   "cell_type": "markdown",
   "metadata": {},
   "source": [
    "Now we'll read them into a pair of dask arrays."
   ]
  },
  {
   "cell_type": "code",
   "execution_count": 9,
   "metadata": {
    "collapsed": true
   },
   "outputs": [],
   "source": [
    "X, y = read()"
   ]
  },
  {
   "cell_type": "code",
   "execution_count": 10,
   "metadata": {},
   "outputs": [
    {
     "data": {
      "text/plain": [
       "dask.array<concatenate, shape=(100000000, 20), dtype=float64, chunksize=(500000, 20)>"
      ]
     },
     "execution_count": 10,
     "metadata": {},
     "output_type": "execute_result"
    }
   ],
   "source": [
    "X"
   ]
  },
  {
   "cell_type": "code",
   "execution_count": 11,
   "metadata": {},
   "outputs": [
    {
     "data": {
      "text/plain": [
       "dask.array<squeeze, shape=(100000000,), dtype=float64, chunksize=(500000,)>"
      ]
     },
     "execution_count": 11,
     "metadata": {},
     "output_type": "execute_result"
    }
   ],
   "source": [
    "y"
   ]
  },
  {
   "cell_type": "code",
   "execution_count": 12,
   "metadata": {},
   "outputs": [
    {
     "data": {
      "text/plain": [
       "16.8"
      ]
     },
     "execution_count": 12,
     "metadata": {},
     "output_type": "execute_result"
    }
   ],
   "source": [
    "(X.nbytes + y.nbytes) / 10**9"
   ]
  },
  {
   "cell_type": "markdown",
   "metadata": {},
   "source": [
    "In total, we'll be fitting the model on about 17 GB of data (100,000,000 rows by 20 columns), all floats. My laptop has 16 GB of RAM, so it'd be impossible to do this in main memory alone.\n",
    "\n",
    "To demonstrate the idea, we'll have a small pipeline\n",
    "\n",
    "1. Scale the features by mean and variance\n",
    "2. Fit an `SGDClassifer`\n",
    "\n",
    "I've implemented a `daskml.preprocessing.StandardScaler`, using `dask`, in about 40 lines of code. This will operate completely in parallel.\n",
    "\n",
    "I haven't implemented a custom `SGDClassifier`, because that'd be *much* more than 40 lines of code. I have a small wrapper that will use scikit-learn's implementation to provide fit method that operates out-of-core, but not in parallel."
   ]
  },
  {
   "cell_type": "code",
   "execution_count": 15,
   "metadata": {
    "collapsed": true
   },
   "outputs": [],
   "source": [
    "from daskml.preprocessing import StandardScaler\n",
    "from daskml.linear_model import BigSGDClassifier\n",
    "\n",
    "from dask.diagnostics import ResourceProfiler, Profiler, ProgressBar"
   ]
  },
  {
   "cell_type": "code",
   "execution_count": 16,
   "metadata": {},
   "outputs": [
    {
     "name": "stdout",
     "output_type": "stream",
     "text": [
      "CPU times: user 2min 38s, sys: 1min 44s, total: 4min 22s\n",
      "Wall time: 1min 47s\n"
     ]
    }
   ],
   "source": [
    "%%time\n",
    "rp = ResourceProfiler()\n",
    "p = Profiler()\n",
    "\n",
    "pipe = make_pipeline(\n",
    "    StandardScaler(),\n",
    "    BigSGDClassifier(classes=[0, 1], max_iter=1000, tol=1e-3, random_state=2),\n",
    ")\n",
    "\n",
    "with p, rp:\n",
    "    pipe.fit(X, y)"
   ]
  },
  {
   "cell_type": "code",
   "execution_count": 17,
   "metadata": {},
   "outputs": [
    {
     "name": "stderr",
     "output_type": "stream",
     "text": [
      "/Users/taugspurger/Envs/dask-dev/lib/python3.6/site-packages/bokeh/util/deprecation.py:34: BokehDeprecationWarning: ResizeTool is removed in Bokeh 0.12.7, adding it is a no-op. In the future, accessing ResizeTool will be an error\n",
      "  warn(message)\n"
     ]
    },
    {
     "data": {
      "text/html": [
       "<div style=\"display: table;\"><div style=\"display: table-row;\"><div style=\"display: table-cell;\"><b title=\"bokeh.plotting.figure.Figure\">Figure</b>(</div><div style=\"display: table-cell;\">id&nbsp;=&nbsp;'cb1de8ac-f0b1-4690-b58f-45765e3f473f', <span id=\"14f14166-85c9-4e3e-9e67-d66eeea06793\" style=\"cursor: pointer;\">&hellip;)</span></div></div><div class=\"856dbda7-48de-4f12-a5de-11b2e8e9ec7e\" style=\"display: none;\"><div style=\"display: table-cell;\"></div><div style=\"display: table-cell;\">above&nbsp;=&nbsp;[],</div></div><div class=\"856dbda7-48de-4f12-a5de-11b2e8e9ec7e\" style=\"display: none;\"><div style=\"display: table-cell;\"></div><div style=\"display: table-cell;\">aspect_scale&nbsp;=&nbsp;1,</div></div><div class=\"856dbda7-48de-4f12-a5de-11b2e8e9ec7e\" style=\"display: none;\"><div style=\"display: table-cell;\"></div><div style=\"display: table-cell;\">background_fill_alpha&nbsp;=&nbsp;{'value': 1.0},</div></div><div class=\"856dbda7-48de-4f12-a5de-11b2e8e9ec7e\" style=\"display: none;\"><div style=\"display: table-cell;\"></div><div style=\"display: table-cell;\">background_fill_color&nbsp;=&nbsp;{'value': '#ffffff'},</div></div><div class=\"856dbda7-48de-4f12-a5de-11b2e8e9ec7e\" style=\"display: none;\"><div style=\"display: table-cell;\"></div><div style=\"display: table-cell;\">below&nbsp;=&nbsp;[LinearAxis(id='b09241bc-b6f8-4c13-9c73-ca155eaed683', ...)],</div></div><div class=\"856dbda7-48de-4f12-a5de-11b2e8e9ec7e\" style=\"display: none;\"><div style=\"display: table-cell;\"></div><div style=\"display: table-cell;\">border_fill_alpha&nbsp;=&nbsp;{'value': 1.0},</div></div><div class=\"856dbda7-48de-4f12-a5de-11b2e8e9ec7e\" style=\"display: none;\"><div style=\"display: table-cell;\"></div><div style=\"display: table-cell;\">border_fill_color&nbsp;=&nbsp;{'value': '#ffffff'},</div></div><div class=\"856dbda7-48de-4f12-a5de-11b2e8e9ec7e\" style=\"display: none;\"><div style=\"display: table-cell;\"></div><div style=\"display: table-cell;\">css_classes&nbsp;=&nbsp;None,</div></div><div class=\"856dbda7-48de-4f12-a5de-11b2e8e9ec7e\" style=\"display: none;\"><div style=\"display: table-cell;\"></div><div style=\"display: table-cell;\">disabled&nbsp;=&nbsp;False,</div></div><div class=\"856dbda7-48de-4f12-a5de-11b2e8e9ec7e\" style=\"display: none;\"><div style=\"display: table-cell;\"></div><div style=\"display: table-cell;\">extra_x_ranges&nbsp;=&nbsp;{},</div></div><div class=\"856dbda7-48de-4f12-a5de-11b2e8e9ec7e\" style=\"display: none;\"><div style=\"display: table-cell;\"></div><div style=\"display: table-cell;\">extra_y_ranges&nbsp;=&nbsp;{},</div></div><div class=\"856dbda7-48de-4f12-a5de-11b2e8e9ec7e\" style=\"display: none;\"><div style=\"display: table-cell;\"></div><div style=\"display: table-cell;\">h_symmetry&nbsp;=&nbsp;True,</div></div><div class=\"856dbda7-48de-4f12-a5de-11b2e8e9ec7e\" style=\"display: none;\"><div style=\"display: table-cell;\"></div><div style=\"display: table-cell;\">height&nbsp;=&nbsp;None,</div></div><div class=\"856dbda7-48de-4f12-a5de-11b2e8e9ec7e\" style=\"display: none;\"><div style=\"display: table-cell;\"></div><div style=\"display: table-cell;\">hidpi&nbsp;=&nbsp;True,</div></div><div class=\"856dbda7-48de-4f12-a5de-11b2e8e9ec7e\" style=\"display: none;\"><div style=\"display: table-cell;\"></div><div style=\"display: table-cell;\">js_event_callbacks&nbsp;=&nbsp;{},</div></div><div class=\"856dbda7-48de-4f12-a5de-11b2e8e9ec7e\" style=\"display: none;\"><div style=\"display: table-cell;\"></div><div style=\"display: table-cell;\">js_property_callbacks&nbsp;=&nbsp;{},</div></div><div class=\"856dbda7-48de-4f12-a5de-11b2e8e9ec7e\" style=\"display: none;\"><div style=\"display: table-cell;\"></div><div style=\"display: table-cell;\">left&nbsp;=&nbsp;[CategoricalAxis(id='43ba0855-f6bd-4c5f-87bd-2120044a7680', ...)],</div></div><div class=\"856dbda7-48de-4f12-a5de-11b2e8e9ec7e\" style=\"display: none;\"><div style=\"display: table-cell;\"></div><div style=\"display: table-cell;\">lod_factor&nbsp;=&nbsp;10,</div></div><div class=\"856dbda7-48de-4f12-a5de-11b2e8e9ec7e\" style=\"display: none;\"><div style=\"display: table-cell;\"></div><div style=\"display: table-cell;\">lod_interval&nbsp;=&nbsp;300,</div></div><div class=\"856dbda7-48de-4f12-a5de-11b2e8e9ec7e\" style=\"display: none;\"><div style=\"display: table-cell;\"></div><div style=\"display: table-cell;\">lod_threshold&nbsp;=&nbsp;2000,</div></div><div class=\"856dbda7-48de-4f12-a5de-11b2e8e9ec7e\" style=\"display: none;\"><div style=\"display: table-cell;\"></div><div style=\"display: table-cell;\">lod_timeout&nbsp;=&nbsp;500,</div></div><div class=\"856dbda7-48de-4f12-a5de-11b2e8e9ec7e\" style=\"display: none;\"><div style=\"display: table-cell;\"></div><div style=\"display: table-cell;\">match_aspect&nbsp;=&nbsp;False,</div></div><div class=\"856dbda7-48de-4f12-a5de-11b2e8e9ec7e\" style=\"display: none;\"><div style=\"display: table-cell;\"></div><div style=\"display: table-cell;\">min_border&nbsp;=&nbsp;5,</div></div><div class=\"856dbda7-48de-4f12-a5de-11b2e8e9ec7e\" style=\"display: none;\"><div style=\"display: table-cell;\"></div><div style=\"display: table-cell;\">min_border_bottom&nbsp;=&nbsp;None,</div></div><div class=\"856dbda7-48de-4f12-a5de-11b2e8e9ec7e\" style=\"display: none;\"><div style=\"display: table-cell;\"></div><div style=\"display: table-cell;\">min_border_left&nbsp;=&nbsp;None,</div></div><div class=\"856dbda7-48de-4f12-a5de-11b2e8e9ec7e\" style=\"display: none;\"><div style=\"display: table-cell;\"></div><div style=\"display: table-cell;\">min_border_right&nbsp;=&nbsp;None,</div></div><div class=\"856dbda7-48de-4f12-a5de-11b2e8e9ec7e\" style=\"display: none;\"><div style=\"display: table-cell;\"></div><div style=\"display: table-cell;\">min_border_top&nbsp;=&nbsp;None,</div></div><div class=\"856dbda7-48de-4f12-a5de-11b2e8e9ec7e\" style=\"display: none;\"><div style=\"display: table-cell;\"></div><div style=\"display: table-cell;\">name&nbsp;=&nbsp;None,</div></div><div class=\"856dbda7-48de-4f12-a5de-11b2e8e9ec7e\" style=\"display: none;\"><div style=\"display: table-cell;\"></div><div style=\"display: table-cell;\">outline_line_alpha&nbsp;=&nbsp;{'value': 1.0},</div></div><div class=\"856dbda7-48de-4f12-a5de-11b2e8e9ec7e\" style=\"display: none;\"><div style=\"display: table-cell;\"></div><div style=\"display: table-cell;\">outline_line_cap&nbsp;=&nbsp;'butt',</div></div><div class=\"856dbda7-48de-4f12-a5de-11b2e8e9ec7e\" style=\"display: none;\"><div style=\"display: table-cell;\"></div><div style=\"display: table-cell;\">outline_line_color&nbsp;=&nbsp;{'value': '#e5e5e5'},</div></div><div class=\"856dbda7-48de-4f12-a5de-11b2e8e9ec7e\" style=\"display: none;\"><div style=\"display: table-cell;\"></div><div style=\"display: table-cell;\">outline_line_dash&nbsp;=&nbsp;[],</div></div><div class=\"856dbda7-48de-4f12-a5de-11b2e8e9ec7e\" style=\"display: none;\"><div style=\"display: table-cell;\"></div><div style=\"display: table-cell;\">outline_line_dash_offset&nbsp;=&nbsp;0,</div></div><div class=\"856dbda7-48de-4f12-a5de-11b2e8e9ec7e\" style=\"display: none;\"><div style=\"display: table-cell;\"></div><div style=\"display: table-cell;\">outline_line_join&nbsp;=&nbsp;'miter',</div></div><div class=\"856dbda7-48de-4f12-a5de-11b2e8e9ec7e\" style=\"display: none;\"><div style=\"display: table-cell;\"></div><div style=\"display: table-cell;\">outline_line_width&nbsp;=&nbsp;{'value': 1},</div></div><div class=\"856dbda7-48de-4f12-a5de-11b2e8e9ec7e\" style=\"display: none;\"><div style=\"display: table-cell;\"></div><div style=\"display: table-cell;\">output_backend&nbsp;=&nbsp;'canvas',</div></div><div class=\"856dbda7-48de-4f12-a5de-11b2e8e9ec7e\" style=\"display: none;\"><div style=\"display: table-cell;\"></div><div style=\"display: table-cell;\">plot_height&nbsp;=&nbsp;300,</div></div><div class=\"856dbda7-48de-4f12-a5de-11b2e8e9ec7e\" style=\"display: none;\"><div style=\"display: table-cell;\"></div><div style=\"display: table-cell;\">plot_width&nbsp;=&nbsp;800,</div></div><div class=\"856dbda7-48de-4f12-a5de-11b2e8e9ec7e\" style=\"display: none;\"><div style=\"display: table-cell;\"></div><div style=\"display: table-cell;\">renderers&nbsp;=&nbsp;[LinearAxis(id='b09241bc-b6f8-4c13-9c73-ca155eaed683', ...), Grid(id='56397c70-0abf-4613-b858-cad49e154a0c', ...), CategoricalAxis(id='43ba0855-f6bd-4c5f-87bd-2120044a7680', ...), Grid(id='8929a0a3-df0e-4ac5-b4d6-ccbdeb17d490', ...), GlyphRenderer(id='13be5c4b-9934-4b94-a418-648ebfe097f1', ...)],</div></div><div class=\"856dbda7-48de-4f12-a5de-11b2e8e9ec7e\" style=\"display: none;\"><div style=\"display: table-cell;\"></div><div style=\"display: table-cell;\">right&nbsp;=&nbsp;[],</div></div><div class=\"856dbda7-48de-4f12-a5de-11b2e8e9ec7e\" style=\"display: none;\"><div style=\"display: table-cell;\"></div><div style=\"display: table-cell;\">sizing_mode&nbsp;=&nbsp;'fixed',</div></div><div class=\"856dbda7-48de-4f12-a5de-11b2e8e9ec7e\" style=\"display: none;\"><div style=\"display: table-cell;\"></div><div style=\"display: table-cell;\">subscribed_events&nbsp;=&nbsp;[],</div></div><div class=\"856dbda7-48de-4f12-a5de-11b2e8e9ec7e\" style=\"display: none;\"><div style=\"display: table-cell;\"></div><div style=\"display: table-cell;\">tags&nbsp;=&nbsp;[],</div></div><div class=\"856dbda7-48de-4f12-a5de-11b2e8e9ec7e\" style=\"display: none;\"><div style=\"display: table-cell;\"></div><div style=\"display: table-cell;\">title&nbsp;=&nbsp;Title(id='c75bafda-d2c8-4063-ab45-067cf89412a3', ...),</div></div><div class=\"856dbda7-48de-4f12-a5de-11b2e8e9ec7e\" style=\"display: none;\"><div style=\"display: table-cell;\"></div><div style=\"display: table-cell;\">title_location&nbsp;=&nbsp;'above',</div></div><div class=\"856dbda7-48de-4f12-a5de-11b2e8e9ec7e\" style=\"display: none;\"><div style=\"display: table-cell;\"></div><div style=\"display: table-cell;\">toolbar&nbsp;=&nbsp;Toolbar(id='f911f4c4-37ae-4c83-93bd-954bbeb9a68b', ...),</div></div><div class=\"856dbda7-48de-4f12-a5de-11b2e8e9ec7e\" style=\"display: none;\"><div style=\"display: table-cell;\"></div><div style=\"display: table-cell;\">toolbar_location&nbsp;=&nbsp;'right',</div></div><div class=\"856dbda7-48de-4f12-a5de-11b2e8e9ec7e\" style=\"display: none;\"><div style=\"display: table-cell;\"></div><div style=\"display: table-cell;\">toolbar_sticky&nbsp;=&nbsp;True,</div></div><div class=\"856dbda7-48de-4f12-a5de-11b2e8e9ec7e\" style=\"display: none;\"><div style=\"display: table-cell;\"></div><div style=\"display: table-cell;\">v_symmetry&nbsp;=&nbsp;False,</div></div><div class=\"856dbda7-48de-4f12-a5de-11b2e8e9ec7e\" style=\"display: none;\"><div style=\"display: table-cell;\"></div><div style=\"display: table-cell;\">width&nbsp;=&nbsp;None,</div></div><div class=\"856dbda7-48de-4f12-a5de-11b2e8e9ec7e\" style=\"display: none;\"><div style=\"display: table-cell;\"></div><div style=\"display: table-cell;\">x_range&nbsp;=&nbsp;Range1d(id='5aa8e242-247a-4295-b6a4-b9ed49104dfa', ...),</div></div><div class=\"856dbda7-48de-4f12-a5de-11b2e8e9ec7e\" style=\"display: none;\"><div style=\"display: table-cell;\"></div><div style=\"display: table-cell;\">x_scale&nbsp;=&nbsp;LinearScale(id='83f01843-0d7d-407f-a083-15ff0709de74', ...),</div></div><div class=\"856dbda7-48de-4f12-a5de-11b2e8e9ec7e\" style=\"display: none;\"><div style=\"display: table-cell;\"></div><div style=\"display: table-cell;\">y_range&nbsp;=&nbsp;FactorRange(id='01fd3668-8db7-48cd-8f41-0f68ef4b9cc4', ...),</div></div><div class=\"856dbda7-48de-4f12-a5de-11b2e8e9ec7e\" style=\"display: none;\"><div style=\"display: table-cell;\"></div><div style=\"display: table-cell;\">y_scale&nbsp;=&nbsp;CategoricalScale(id='bb9d480e-9d3c-43cc-8c1c-d58dfe8a73dd', ...))</div></div></div>\n",
       "<script>\n",
       "(function() {\n",
       "  var expanded = false;\n",
       "  var ellipsis = document.getElementById(\"14f14166-85c9-4e3e-9e67-d66eeea06793\");\n",
       "  ellipsis.addEventListener(\"click\", function() {\n",
       "    var rows = document.getElementsByClassName(\"856dbda7-48de-4f12-a5de-11b2e8e9ec7e\");\n",
       "    for (var i = 0; i < rows.length; i++) {\n",
       "      var el = rows[i];\n",
       "      el.style.display = expanded ? \"none\" : \"table-row\";\n",
       "    }\n",
       "    ellipsis.innerHTML = expanded ? \"&hellip;)\" : \"&lsaquo;&lsaquo;&lsaquo;\";\n",
       "    expanded = !expanded;\n",
       "  });\n",
       "})();\n",
       "</script>\n"
      ],
      "text/plain": [
       "Figure(id='cb1de8ac-f0b1-4690-b58f-45765e3f473f', ...)"
      ]
     },
     "execution_count": 17,
     "metadata": {},
     "output_type": "execute_result"
    }
   ],
   "source": [
    "p.visualize()"
   ]
  },
  {
   "cell_type": "markdown",
   "metadata": {},
   "source": [
    "That graph shows the issue pretty well. We get good parallelism for reading from disk and computing the `StandardScaler`. But once we hit the final stage in the pipeline, which is calling `SGDClassifier.partial_fit` a bunch of times, everything is serial."
   ]
  },
  {
   "cell_type": "markdown",
   "metadata": {},
   "source": [
    "Prediction is completely parallel."
   ]
  },
  {
   "cell_type": "code",
   "execution_count": 18,
   "metadata": {},
   "outputs": [
    {
     "name": "stdout",
     "output_type": "stream",
     "text": [
      "CPU times: user 8.33 ms, sys: 1.05 ms, total: 9.38 ms\n",
      "Wall time: 9.26 ms\n"
     ]
    }
   ],
   "source": [
    "%time predictions = pipe.predict(X)"
   ]
  },
  {
   "cell_type": "markdown",
   "metadata": {},
   "source": [
    "Well, dask is lazy so that did actually complete in 9 ms :)\n",
    "\n",
    "Let's write it to disk."
   ]
  },
  {
   "cell_type": "code",
   "execution_count": 19,
   "metadata": {},
   "outputs": [
    {
     "name": "stdout",
     "output_type": "stream",
     "text": [
      "CPU times: user 51.2 s, sys: 1min, total: 1min 51s\n",
      "Wall time: 39.1 s\n"
     ]
    }
   ],
   "source": [
    "%%time\n",
    "\n",
    "with rp, p:\n",
    "    predictions.to_dask_dataframe(columns='a').to_parquet('predictions.parq')"
   ]
  },
  {
   "cell_type": "markdown",
   "metadata": {},
   "source": [
    "That's from disk, to prediction, and back to disk, for 16 GB in data in 40s, while using all 8 cores on my laptop."
   ]
  },
  {
   "cell_type": "code",
   "execution_count": 20,
   "metadata": {},
   "outputs": [
    {
     "name": "stderr",
     "output_type": "stream",
     "text": [
      "/Users/taugspurger/Envs/dask-dev/lib/python3.6/site-packages/bokeh/util/deprecation.py:34: BokehDeprecationWarning: ResizeTool is removed in Bokeh 0.12.7, adding it is a no-op. In the future, accessing ResizeTool will be an error\n",
      "  warn(message)\n"
     ]
    },
    {
     "data": {
      "text/html": [
       "<div style=\"display: table;\"><div style=\"display: table-row;\"><div style=\"display: table-cell;\"><b title=\"bokeh.plotting.figure.Figure\">Figure</b>(</div><div style=\"display: table-cell;\">id&nbsp;=&nbsp;'9c8e31b6-9830-4e5a-b9a3-a4af96cdecfa', <span id=\"538b7376-1133-4f70-aeac-2985fb64fee8\" style=\"cursor: pointer;\">&hellip;)</span></div></div><div class=\"a606854b-4514-4f19-98ca-9d85049e96c5\" style=\"display: none;\"><div style=\"display: table-cell;\"></div><div style=\"display: table-cell;\">above&nbsp;=&nbsp;[],</div></div><div class=\"a606854b-4514-4f19-98ca-9d85049e96c5\" style=\"display: none;\"><div style=\"display: table-cell;\"></div><div style=\"display: table-cell;\">aspect_scale&nbsp;=&nbsp;1,</div></div><div class=\"a606854b-4514-4f19-98ca-9d85049e96c5\" style=\"display: none;\"><div style=\"display: table-cell;\"></div><div style=\"display: table-cell;\">background_fill_alpha&nbsp;=&nbsp;{'value': 1.0},</div></div><div class=\"a606854b-4514-4f19-98ca-9d85049e96c5\" style=\"display: none;\"><div style=\"display: table-cell;\"></div><div style=\"display: table-cell;\">background_fill_color&nbsp;=&nbsp;{'value': '#ffffff'},</div></div><div class=\"a606854b-4514-4f19-98ca-9d85049e96c5\" style=\"display: none;\"><div style=\"display: table-cell;\"></div><div style=\"display: table-cell;\">below&nbsp;=&nbsp;[LinearAxis(id='df9f160a-57fd-40bc-9147-0085e9cfeb80', ...)],</div></div><div class=\"a606854b-4514-4f19-98ca-9d85049e96c5\" style=\"display: none;\"><div style=\"display: table-cell;\"></div><div style=\"display: table-cell;\">border_fill_alpha&nbsp;=&nbsp;{'value': 1.0},</div></div><div class=\"a606854b-4514-4f19-98ca-9d85049e96c5\" style=\"display: none;\"><div style=\"display: table-cell;\"></div><div style=\"display: table-cell;\">border_fill_color&nbsp;=&nbsp;{'value': '#ffffff'},</div></div><div class=\"a606854b-4514-4f19-98ca-9d85049e96c5\" style=\"display: none;\"><div style=\"display: table-cell;\"></div><div style=\"display: table-cell;\">css_classes&nbsp;=&nbsp;None,</div></div><div class=\"a606854b-4514-4f19-98ca-9d85049e96c5\" style=\"display: none;\"><div style=\"display: table-cell;\"></div><div style=\"display: table-cell;\">disabled&nbsp;=&nbsp;False,</div></div><div class=\"a606854b-4514-4f19-98ca-9d85049e96c5\" style=\"display: none;\"><div style=\"display: table-cell;\"></div><div style=\"display: table-cell;\">extra_x_ranges&nbsp;=&nbsp;{},</div></div><div class=\"a606854b-4514-4f19-98ca-9d85049e96c5\" style=\"display: none;\"><div style=\"display: table-cell;\"></div><div style=\"display: table-cell;\">extra_y_ranges&nbsp;=&nbsp;{},</div></div><div class=\"a606854b-4514-4f19-98ca-9d85049e96c5\" style=\"display: none;\"><div style=\"display: table-cell;\"></div><div style=\"display: table-cell;\">h_symmetry&nbsp;=&nbsp;True,</div></div><div class=\"a606854b-4514-4f19-98ca-9d85049e96c5\" style=\"display: none;\"><div style=\"display: table-cell;\"></div><div style=\"display: table-cell;\">height&nbsp;=&nbsp;None,</div></div><div class=\"a606854b-4514-4f19-98ca-9d85049e96c5\" style=\"display: none;\"><div style=\"display: table-cell;\"></div><div style=\"display: table-cell;\">hidpi&nbsp;=&nbsp;True,</div></div><div class=\"a606854b-4514-4f19-98ca-9d85049e96c5\" style=\"display: none;\"><div style=\"display: table-cell;\"></div><div style=\"display: table-cell;\">js_event_callbacks&nbsp;=&nbsp;{},</div></div><div class=\"a606854b-4514-4f19-98ca-9d85049e96c5\" style=\"display: none;\"><div style=\"display: table-cell;\"></div><div style=\"display: table-cell;\">js_property_callbacks&nbsp;=&nbsp;{},</div></div><div class=\"a606854b-4514-4f19-98ca-9d85049e96c5\" style=\"display: none;\"><div style=\"display: table-cell;\"></div><div style=\"display: table-cell;\">left&nbsp;=&nbsp;[CategoricalAxis(id='31524225-b34c-4508-8de8-be5beca7c3cb', ...)],</div></div><div class=\"a606854b-4514-4f19-98ca-9d85049e96c5\" style=\"display: none;\"><div style=\"display: table-cell;\"></div><div style=\"display: table-cell;\">lod_factor&nbsp;=&nbsp;10,</div></div><div class=\"a606854b-4514-4f19-98ca-9d85049e96c5\" style=\"display: none;\"><div style=\"display: table-cell;\"></div><div style=\"display: table-cell;\">lod_interval&nbsp;=&nbsp;300,</div></div><div class=\"a606854b-4514-4f19-98ca-9d85049e96c5\" style=\"display: none;\"><div style=\"display: table-cell;\"></div><div style=\"display: table-cell;\">lod_threshold&nbsp;=&nbsp;2000,</div></div><div class=\"a606854b-4514-4f19-98ca-9d85049e96c5\" style=\"display: none;\"><div style=\"display: table-cell;\"></div><div style=\"display: table-cell;\">lod_timeout&nbsp;=&nbsp;500,</div></div><div class=\"a606854b-4514-4f19-98ca-9d85049e96c5\" style=\"display: none;\"><div style=\"display: table-cell;\"></div><div style=\"display: table-cell;\">match_aspect&nbsp;=&nbsp;False,</div></div><div class=\"a606854b-4514-4f19-98ca-9d85049e96c5\" style=\"display: none;\"><div style=\"display: table-cell;\"></div><div style=\"display: table-cell;\">min_border&nbsp;=&nbsp;5,</div></div><div class=\"a606854b-4514-4f19-98ca-9d85049e96c5\" style=\"display: none;\"><div style=\"display: table-cell;\"></div><div style=\"display: table-cell;\">min_border_bottom&nbsp;=&nbsp;None,</div></div><div class=\"a606854b-4514-4f19-98ca-9d85049e96c5\" style=\"display: none;\"><div style=\"display: table-cell;\"></div><div style=\"display: table-cell;\">min_border_left&nbsp;=&nbsp;None,</div></div><div class=\"a606854b-4514-4f19-98ca-9d85049e96c5\" style=\"display: none;\"><div style=\"display: table-cell;\"></div><div style=\"display: table-cell;\">min_border_right&nbsp;=&nbsp;None,</div></div><div class=\"a606854b-4514-4f19-98ca-9d85049e96c5\" style=\"display: none;\"><div style=\"display: table-cell;\"></div><div style=\"display: table-cell;\">min_border_top&nbsp;=&nbsp;None,</div></div><div class=\"a606854b-4514-4f19-98ca-9d85049e96c5\" style=\"display: none;\"><div style=\"display: table-cell;\"></div><div style=\"display: table-cell;\">name&nbsp;=&nbsp;None,</div></div><div class=\"a606854b-4514-4f19-98ca-9d85049e96c5\" style=\"display: none;\"><div style=\"display: table-cell;\"></div><div style=\"display: table-cell;\">outline_line_alpha&nbsp;=&nbsp;{'value': 1.0},</div></div><div class=\"a606854b-4514-4f19-98ca-9d85049e96c5\" style=\"display: none;\"><div style=\"display: table-cell;\"></div><div style=\"display: table-cell;\">outline_line_cap&nbsp;=&nbsp;'butt',</div></div><div class=\"a606854b-4514-4f19-98ca-9d85049e96c5\" style=\"display: none;\"><div style=\"display: table-cell;\"></div><div style=\"display: table-cell;\">outline_line_color&nbsp;=&nbsp;{'value': '#e5e5e5'},</div></div><div class=\"a606854b-4514-4f19-98ca-9d85049e96c5\" style=\"display: none;\"><div style=\"display: table-cell;\"></div><div style=\"display: table-cell;\">outline_line_dash&nbsp;=&nbsp;[],</div></div><div class=\"a606854b-4514-4f19-98ca-9d85049e96c5\" style=\"display: none;\"><div style=\"display: table-cell;\"></div><div style=\"display: table-cell;\">outline_line_dash_offset&nbsp;=&nbsp;0,</div></div><div class=\"a606854b-4514-4f19-98ca-9d85049e96c5\" style=\"display: none;\"><div style=\"display: table-cell;\"></div><div style=\"display: table-cell;\">outline_line_join&nbsp;=&nbsp;'miter',</div></div><div class=\"a606854b-4514-4f19-98ca-9d85049e96c5\" style=\"display: none;\"><div style=\"display: table-cell;\"></div><div style=\"display: table-cell;\">outline_line_width&nbsp;=&nbsp;{'value': 1},</div></div><div class=\"a606854b-4514-4f19-98ca-9d85049e96c5\" style=\"display: none;\"><div style=\"display: table-cell;\"></div><div style=\"display: table-cell;\">output_backend&nbsp;=&nbsp;'canvas',</div></div><div class=\"a606854b-4514-4f19-98ca-9d85049e96c5\" style=\"display: none;\"><div style=\"display: table-cell;\"></div><div style=\"display: table-cell;\">plot_height&nbsp;=&nbsp;300,</div></div><div class=\"a606854b-4514-4f19-98ca-9d85049e96c5\" style=\"display: none;\"><div style=\"display: table-cell;\"></div><div style=\"display: table-cell;\">plot_width&nbsp;=&nbsp;800,</div></div><div class=\"a606854b-4514-4f19-98ca-9d85049e96c5\" style=\"display: none;\"><div style=\"display: table-cell;\"></div><div style=\"display: table-cell;\">renderers&nbsp;=&nbsp;[LinearAxis(id='df9f160a-57fd-40bc-9147-0085e9cfeb80', ...), Grid(id='6ce4de74-26d7-4f11-b7e1-54d26df3a9c0', ...), CategoricalAxis(id='31524225-b34c-4508-8de8-be5beca7c3cb', ...), Grid(id='b09b9fa0-ba80-4a2e-9d7b-3bf544e4cf05', ...), GlyphRenderer(id='fd50f496-9574-4d1c-92ce-ab4b3b6a86fd', ...)],</div></div><div class=\"a606854b-4514-4f19-98ca-9d85049e96c5\" style=\"display: none;\"><div style=\"display: table-cell;\"></div><div style=\"display: table-cell;\">right&nbsp;=&nbsp;[],</div></div><div class=\"a606854b-4514-4f19-98ca-9d85049e96c5\" style=\"display: none;\"><div style=\"display: table-cell;\"></div><div style=\"display: table-cell;\">sizing_mode&nbsp;=&nbsp;'fixed',</div></div><div class=\"a606854b-4514-4f19-98ca-9d85049e96c5\" style=\"display: none;\"><div style=\"display: table-cell;\"></div><div style=\"display: table-cell;\">subscribed_events&nbsp;=&nbsp;[],</div></div><div class=\"a606854b-4514-4f19-98ca-9d85049e96c5\" style=\"display: none;\"><div style=\"display: table-cell;\"></div><div style=\"display: table-cell;\">tags&nbsp;=&nbsp;[],</div></div><div class=\"a606854b-4514-4f19-98ca-9d85049e96c5\" style=\"display: none;\"><div style=\"display: table-cell;\"></div><div style=\"display: table-cell;\">title&nbsp;=&nbsp;Title(id='b6887c7f-1c03-4342-b931-b029112390ee', ...),</div></div><div class=\"a606854b-4514-4f19-98ca-9d85049e96c5\" style=\"display: none;\"><div style=\"display: table-cell;\"></div><div style=\"display: table-cell;\">title_location&nbsp;=&nbsp;'above',</div></div><div class=\"a606854b-4514-4f19-98ca-9d85049e96c5\" style=\"display: none;\"><div style=\"display: table-cell;\"></div><div style=\"display: table-cell;\">toolbar&nbsp;=&nbsp;Toolbar(id='facac5c2-9b86-444f-96bf-29f46d76876b', ...),</div></div><div class=\"a606854b-4514-4f19-98ca-9d85049e96c5\" style=\"display: none;\"><div style=\"display: table-cell;\"></div><div style=\"display: table-cell;\">toolbar_location&nbsp;=&nbsp;'right',</div></div><div class=\"a606854b-4514-4f19-98ca-9d85049e96c5\" style=\"display: none;\"><div style=\"display: table-cell;\"></div><div style=\"display: table-cell;\">toolbar_sticky&nbsp;=&nbsp;True,</div></div><div class=\"a606854b-4514-4f19-98ca-9d85049e96c5\" style=\"display: none;\"><div style=\"display: table-cell;\"></div><div style=\"display: table-cell;\">v_symmetry&nbsp;=&nbsp;False,</div></div><div class=\"a606854b-4514-4f19-98ca-9d85049e96c5\" style=\"display: none;\"><div style=\"display: table-cell;\"></div><div style=\"display: table-cell;\">width&nbsp;=&nbsp;None,</div></div><div class=\"a606854b-4514-4f19-98ca-9d85049e96c5\" style=\"display: none;\"><div style=\"display: table-cell;\"></div><div style=\"display: table-cell;\">x_range&nbsp;=&nbsp;Range1d(id='91ad5f69-5f51-4685-b86d-1b1e52fd13d8', ...),</div></div><div class=\"a606854b-4514-4f19-98ca-9d85049e96c5\" style=\"display: none;\"><div style=\"display: table-cell;\"></div><div style=\"display: table-cell;\">x_scale&nbsp;=&nbsp;LinearScale(id='6aa81439-fbeb-4be9-9454-7395dc029882', ...),</div></div><div class=\"a606854b-4514-4f19-98ca-9d85049e96c5\" style=\"display: none;\"><div style=\"display: table-cell;\"></div><div style=\"display: table-cell;\">y_range&nbsp;=&nbsp;FactorRange(id='45565b10-92f4-4110-a141-2e97617a03ef', ...),</div></div><div class=\"a606854b-4514-4f19-98ca-9d85049e96c5\" style=\"display: none;\"><div style=\"display: table-cell;\"></div><div style=\"display: table-cell;\">y_scale&nbsp;=&nbsp;CategoricalScale(id='be536e75-f2ba-4aae-802b-e14ee41fc93f', ...))</div></div></div>\n",
       "<script>\n",
       "(function() {\n",
       "  var expanded = false;\n",
       "  var ellipsis = document.getElementById(\"538b7376-1133-4f70-aeac-2985fb64fee8\");\n",
       "  ellipsis.addEventListener(\"click\", function() {\n",
       "    var rows = document.getElementsByClassName(\"a606854b-4514-4f19-98ca-9d85049e96c5\");\n",
       "    for (var i = 0; i < rows.length; i++) {\n",
       "      var el = rows[i];\n",
       "      el.style.display = expanded ? \"none\" : \"table-row\";\n",
       "    }\n",
       "    ellipsis.innerHTML = expanded ? \"&hellip;)\" : \"&lsaquo;&lsaquo;&lsaquo;\";\n",
       "    expanded = !expanded;\n",
       "  });\n",
       "})();\n",
       "</script>\n"
      ],
      "text/plain": [
       "Figure(id='9c8e31b6-9830-4e5a-b9a3-a4af96cdecfa', ...)"
      ]
     },
     "execution_count": 20,
     "metadata": {},
     "output_type": "execute_result"
    }
   ],
   "source": [
    "p.visualize()"
   ]
  }
 ],
 "metadata": {
  "kernelspec": {
   "display_name": "Python 3",
   "language": "python",
   "name": "python3"
  },
  "language_info": {
   "codemirror_mode": {
    "name": "ipython",
    "version": 3
   },
   "file_extension": ".py",
   "mimetype": "text/x-python",
   "name": "python",
   "nbconvert_exporter": "python",
   "pygments_lexer": "ipython3",
   "version": "3.6.1"
  }
 },
 "nbformat": 4,
 "nbformat_minor": 2
}
